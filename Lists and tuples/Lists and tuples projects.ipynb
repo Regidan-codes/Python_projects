{
 "cells": [
  {
   "cell_type": "markdown",
   "id": "3947c4fe",
   "metadata": {},
   "source": [
    "# EXERCISE 9: First-last"
   ]
  },
  {
   "cell_type": "code",
   "execution_count": 3,
   "id": "781c9db7",
   "metadata": {},
   "outputs": [
    {
     "name": "stdout",
     "output_type": "stream",
     "text": [
      "('a', 'c')\n"
     ]
    }
   ],
   "source": [
    "def first_last(sequence):\n",
    "    \n",
    "    return sequence[:1] + sequence[-1:]\n",
    "\n",
    "print(first_last(('a','b','c')))"
   ]
  },
  {
   "cell_type": "markdown",
   "id": "fd42d783",
   "metadata": {},
   "source": [
    "# EXERCISE 10: Summing anything"
   ]
  },
  {
   "cell_type": "code",
   "execution_count": 14,
   "id": "b1d408b5",
   "metadata": {},
   "outputs": [
    {
     "name": "stdout",
     "output_type": "stream",
     "text": [
      "()\n",
      "60\n",
      "[10, 20, 30, 40, 50]\n",
      "abcd\n"
     ]
    }
   ],
   "source": [
    "def mysum(*items):\n",
    "    \n",
    "    if not items:\n",
    "        \n",
    "        return items\n",
    "    \n",
    "    output = items[0]\n",
    "    \n",
    "    for item in items[1:]:\n",
    "        \n",
    "        output += item\n",
    "        \n",
    "    return output\n",
    "\n",
    "\n",
    "print(mysum())\n",
    "\n",
    "print(mysum(10, 20, 30))\n",
    "\n",
    "print(mysum([10,20,30],[40,50]))\n",
    "\n",
    "print(mysum(\"a\",\"b\",\"c\",\"d\"))"
   ]
  },
  {
   "cell_type": "markdown",
   "id": "d7b95fd2",
   "metadata": {},
   "source": [
    "# EXERCISE 11: Alphabetizing names"
   ]
  },
  {
   "cell_type": "code",
   "execution_count": 15,
   "id": "d9391265",
   "metadata": {},
   "outputs": [
    {
     "name": "stdout",
     "output_type": "stream",
     "text": [
      "[{'first': 'Reuven', 'last': 'Lerner', 'email': 'reuven@lerner.co.il'}, {'first': 'Vladimir', 'last': 'Putin', 'email': 'president@kremvax.ru'}, {'first': 'Donald', 'last': 'Trump', 'email': 'president@whitehouse.gov'}]\n"
     ]
    }
   ],
   "source": [
    "import operator\n",
    "\n",
    "PEOPLE = [{'first': 'Reuven', 'last': 'Lerner',\n",
    "            'email': 'reuven@lerner.co.il'},\n",
    "            {'first': 'Donald', 'last': 'Trump',\n",
    "            'email': 'president@whitehouse.gov'},\n",
    "            {'first': 'Vladimir', 'last': 'Putin',\n",
    "            'email': 'president@kremvax.ru'}\n",
    "         ]\n",
    "\n",
    "\n",
    "def alphabetize_names(list_of_dicts):\n",
    "    \n",
    "    return sorted(list_of_dicts, key=operator.itemgetter('last', 'first'))\n",
    "\n",
    "\n",
    "\n",
    "print(alphabetize_names(PEOPLE))"
   ]
  },
  {
   "cell_type": "markdown",
   "id": "6854531f",
   "metadata": {},
   "source": [
    "# EXERCISE 12: Words with most repeated letters"
   ]
  },
  {
   "cell_type": "code",
   "execution_count": 19,
   "id": "04c2babf",
   "metadata": {},
   "outputs": [
    {
     "name": "stdout",
     "output_type": "stream",
     "text": [
      "elementary\n"
     ]
    }
   ],
   "source": [
    "from collections import Counter\n",
    "import operator\n",
    "\n",
    "WORDS = ['this', 'is', 'an','elementary', 'test', 'example']\n",
    "\n",
    "def most_repeating_letter_count(word):\n",
    "    \n",
    "    return Counter(word).most_common(1)[0][1]\n",
    "\n",
    "\n",
    "def most_repeating_word(words):\n",
    "    \n",
    "    return max(words, key=most_repeating_letter_count)\n",
    "\n",
    "\n",
    "\n",
    "print(most_repeating_word(WORDS))\n",
    "    \n",
    "    \n",
    "\n",
    "\n",
    "\n"
   ]
  },
  {
   "cell_type": "markdown",
   "id": "5ea9b595",
   "metadata": {},
   "source": [
    "# EXERCISE 13: Printing Tuple Records"
   ]
  },
  {
   "cell_type": "code",
   "execution_count": 21,
   "id": "87c520af",
   "metadata": {},
   "outputs": [
    {
     "name": "stdout",
     "output_type": "stream",
     "text": [
      "Putin      Vladimir    3.63\n",
      "Trump      Donald      7.85\n",
      "Xi         Jinping    10.60\n"
     ]
    }
   ],
   "source": [
    "import operator\n",
    "\n",
    "PEOPLE = [('Donald', 'Trump', 7.85),('Vladimir', 'Putin', 3.626),('Jinping', 'Xi', 10.603)]\n",
    "\n",
    "def format_sort_records(list_of_tuples):\n",
    "    \n",
    "    output = []\n",
    "    \n",
    "    template = '{1:10} {0:10} {2:5.2f}'\n",
    "    \n",
    "    for person in sorted(list_of_tuples, key=operator.itemgetter(1, 0)):\n",
    "        \n",
    "        output.append(template.format(*person))\n",
    "        \n",
    "    return output\n",
    "\n",
    "print('\\n'.join(format_sort_records(PEOPLE)))\n"
   ]
  },
  {
   "cell_type": "code",
   "execution_count": null,
   "id": "484a0c37",
   "metadata": {},
   "outputs": [],
   "source": []
  }
 ],
 "metadata": {
  "kernelspec": {
   "display_name": "Python 3 (ipykernel)",
   "language": "python",
   "name": "python3"
  },
  "language_info": {
   "codemirror_mode": {
    "name": "ipython",
    "version": 3
   },
   "file_extension": ".py",
   "mimetype": "text/x-python",
   "name": "python",
   "nbconvert_exporter": "python",
   "pygments_lexer": "ipython3",
   "version": "3.9.12"
  }
 },
 "nbformat": 4,
 "nbformat_minor": 5
}
