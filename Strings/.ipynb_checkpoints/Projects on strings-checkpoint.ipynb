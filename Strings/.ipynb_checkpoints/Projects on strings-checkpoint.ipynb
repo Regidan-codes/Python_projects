{
 "cells": [
  {
   "cell_type": "markdown",
   "id": "fb1eb33e",
   "metadata": {},
   "source": [
    "# EXERCISE 1: PIG LATIN\n",
    "* If the word begins in a vowel, add \"way\" to the end of the word.\n",
    "* If the word begins with any other letter, then we take the first letter put it on the end of the word, and then add ay."
   ]
  },
  {
   "cell_type": "code",
   "execution_count": 1,
   "id": "a23a3523",
   "metadata": {},
   "outputs": [
    {
     "name": "stdout",
     "output_type": "stream",
     "text": [
      "ythonPay\n"
     ]
    }
   ],
   "source": [
    "def pig_latin(word):\n",
    "    \n",
    "    if word[0] in \"aeiou\":\n",
    "        \n",
    "        return f'{word}way'\n",
    "    \n",
    "    return f'{word[1:]}{word[0]}ay'\n",
    "\n",
    "\n",
    "print(pig_latin(\"Python\"))\n",
    "        "
   ]
  },
  {
   "cell_type": "markdown",
   "id": "da971d8b",
   "metadata": {},
   "source": [
    "# EXERCISE 2: PIG LATIN SENTENCE. \n",
    "*same instruction as above but its changed with respect to sentence.\n"
   ]
  },
  {
   "cell_type": "code",
   "execution_count": 2,
   "id": "11206428",
   "metadata": {},
   "outputs": [
    {
     "name": "stdout",
     "output_type": "stream",
     "text": [
      "histay isway away esttay\n"
     ]
    }
   ],
   "source": [
    "def pl_sentence(sentence):\n",
    "    \n",
    "    output = []\n",
    "    \n",
    "    for word in sentence.split():\n",
    "        \n",
    "        if word[0] in \"aeiou\":\n",
    "            \n",
    "            output.append(f'{word}way')\n",
    "            \n",
    "        else:\n",
    "            \n",
    "            output.append(f'{word[1:]}{word[0]}ay')\n",
    "        \n",
    "    return ' '.join(output)\n",
    "\n",
    "\n",
    "print(pl_sentence(\"this is a test\"))\n",
    "    \n",
    "    "
   ]
  },
  {
   "cell_type": "markdown",
   "id": "fed75f28",
   "metadata": {},
   "source": [
    "# EXERCISE  3: UBBI DUBBI"
   ]
  },
  {
   "cell_type": "code",
   "execution_count": 7,
   "id": "a2404299",
   "metadata": {},
   "outputs": [
    {
     "data": {
      "text/plain": [
       "'pythubon'"
      ]
     },
     "execution_count": 7,
     "metadata": {},
     "output_type": "execute_result"
    }
   ],
   "source": [
    "def ubbi_dubbi(word):\n",
    "    \n",
    "    output = []\n",
    "    \n",
    "    for letter in word:\n",
    "        \n",
    "        if letter in \"aeiou\":\n",
    "            \n",
    "            output.append(f'ub{letter}')\n",
    "            \n",
    "        else:\n",
    "            \n",
    "            output.append(letter)\n",
    "            \n",
    "    return ''.join(output)\n",
    "\n",
    "ubbi_dubbi(\"python\")\n",
    "            "
   ]
  },
  {
   "cell_type": "markdown",
   "id": "70d6bbc3",
   "metadata": {},
   "source": [
    "# EXERCISE 4: SORTING A STRING "
   ]
  },
  {
   "cell_type": "code",
   "execution_count": 10,
   "id": "166314d6",
   "metadata": {},
   "outputs": [
    {
     "data": {
      "text/plain": [
       "'abcefj'"
      ]
     },
     "execution_count": 10,
     "metadata": {},
     "output_type": "execute_result"
    }
   ],
   "source": [
    "def strsort(string):\n",
    "    return ''.join(sorted(string))\n",
    "\n",
    "strsort(\"cbajef\")"
   ]
  },
  {
   "cell_type": "code",
   "execution_count": null,
   "id": "b241182d",
   "metadata": {},
   "outputs": [],
   "source": []
  }
 ],
 "metadata": {
  "kernelspec": {
   "display_name": "Python 3 (ipykernel)",
   "language": "python",
   "name": "python3"
  },
  "language_info": {
   "codemirror_mode": {
    "name": "ipython",
    "version": 3
   },
   "file_extension": ".py",
   "mimetype": "text/x-python",
   "name": "python",
   "nbconvert_exporter": "python",
   "pygments_lexer": "ipython3",
   "version": "3.9.12"
  }
 },
 "nbformat": 4,
 "nbformat_minor": 5
}
