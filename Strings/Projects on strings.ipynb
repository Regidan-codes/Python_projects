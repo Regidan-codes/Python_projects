{
 "cells": [
  {
   "cell_type": "markdown",
   "id": "da1b374f",
   "metadata": {},
   "source": [
    "# EXERCISE 1: PIG LATIN\n",
    "* If the word begins in a vowel, add \"way\" to the end of the word.\n",
    "* If the word begins with any other letter, then we take the first letter put it on the end of the word, and then add ay."
   ]
  },
  {
   "cell_type": "code",
   "execution_count": 1,
   "id": "6f7c8a39",
   "metadata": {},
   "outputs": [
    {
     "name": "stdout",
     "output_type": "stream",
     "text": [
      "ythonPay\n"
     ]
    }
   ],
   "source": [
    "def pig_latin(word):\n",
    "    \n",
    "    if word[0] in \"aeiou\":\n",
    "        \n",
    "        return f'{word}way'\n",
    "    \n",
    "    return f'{word[1:]}{word[0]}ay'\n",
    "\n",
    "\n",
    "print(pig_latin(\"Python\"))\n",
    "        "
   ]
  },
  {
   "cell_type": "code",
   "execution_count": null,
   "id": "88a29899",
   "metadata": {},
   "outputs": [],
   "source": []
  }
 ],
 "metadata": {
  "kernelspec": {
   "display_name": "Python 3 (ipykernel)",
   "language": "python",
   "name": "python3"
  },
  "language_info": {
   "codemirror_mode": {
    "name": "ipython",
    "version": 3
   },
   "file_extension": ".py",
   "mimetype": "text/x-python",
   "name": "python",
   "nbconvert_exporter": "python",
   "pygments_lexer": "ipython3",
   "version": "3.9.12"
  }
 },
 "nbformat": 4,
 "nbformat_minor": 5
}
