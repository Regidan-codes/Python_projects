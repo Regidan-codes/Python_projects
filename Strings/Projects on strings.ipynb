{
 "cells": [
  {
   "cell_type": "markdown",
   "id": "ebc4098b",
   "metadata": {},
   "source": [
    "# EXERCISE 1: PIG LATIN\n",
    "* If the word begins in a vowel, add \"way\" to the end of the word.\n",
    "* If the word begins with any other letter, then we take the first letter put it on the end of the word, and then add ay."
   ]
  },
  {
   "cell_type": "code",
   "execution_count": null,
   "id": "27c27986",
   "metadata": {},
   "outputs": [],
   "source": [
    "def pig_latin(word):\n",
    "    \n",
    "    if word[0] in \"aeiou\":\n",
    "        \n",
    "        return f'{word}way'\n",
    "    \n",
    "    return f'{word[1:]}word[0]}'\n",
    "        "
   ]
  }
 ],
 "metadata": {
  "kernelspec": {
   "display_name": "Python 3 (ipykernel)",
   "language": "python",
   "name": "python3"
  },
  "language_info": {
   "codemirror_mode": {
    "name": "ipython",
    "version": 3
   },
   "file_extension": ".py",
   "mimetype": "text/x-python",
   "name": "python",
   "nbconvert_exporter": "python",
   "pygments_lexer": "ipython3",
   "version": "3.9.12"
  }
 },
 "nbformat": 4,
 "nbformat_minor": 5
}
