{
 "cells": [
  {
   "cell_type": "markdown",
   "id": "cc30b870",
   "metadata": {},
   "source": [
    "# EXERCISE 14: RESTAURANT"
   ]
  },
  {
   "cell_type": "code",
   "execution_count": 1,
   "id": "8a0920bf",
   "metadata": {},
   "outputs": [
    {
     "name": "stdout",
     "output_type": "stream",
     "text": [
      "Order: tea\n",
      "tea is 7, total is 7\n",
      "Order: salad\n",
      "salad is 9, total is 16\n",
      "Order: \n",
      "Your total is 16\n"
     ]
    }
   ],
   "source": [
    "MENU = {'sandwich': 10, 'tea': 7, 'salad': 9}\n",
    "\n",
    "def restaurant():\n",
    "    \n",
    "    total = 0\n",
    "    while True:\n",
    "        \n",
    "        order = input(\"Order: \").strip()\n",
    "        if not order:\n",
    "            break\n",
    "            \n",
    "        if order in MENU:\n",
    "            price = MENU[order]\n",
    "            total += price\n",
    "            print(f'{order} is {price}, total is {total}')\n",
    "            \n",
    "        else:\n",
    "            \n",
    "            print(f'We are fresh out of {order} today')\n",
    "            \n",
    "            \n",
    "    print(f'Your total is {total}')\n",
    "    \n",
    "restaurant()"
   ]
  },
  {
   "cell_type": "markdown",
   "id": "48b9676f",
   "metadata": {},
   "source": [
    "# EXERCISE 15: RAINFALL"
   ]
  },
  {
   "cell_type": "code",
   "execution_count": 1,
   "id": "01a86ea8",
   "metadata": {},
   "outputs": [
    {
     "name": "stdout",
     "output_type": "stream",
     "text": [
      "Enter city name: boston\n",
      "Enter mm of rain: 10\n",
      "Enter city name: boston\n",
      "Enter mm of rain: 10\n",
      "Enter city name: \n",
      "boston: 20\n"
     ]
    }
   ],
   "source": [
    "def get_rainfall():\n",
    "    \n",
    "    rainfall = {}\n",
    "    \n",
    "    while True:\n",
    "        \n",
    "        city_name = input(\"Enter city name: \")\n",
    "        \n",
    "        if not city_name:\n",
    "            break\n",
    "            \n",
    "        mm_rain = input(\"Enter mm of rain: \")\n",
    "        rainfall[city_name] = rainfall.get(city_name, 0) + int(mm_rain) \n",
    "        \n",
    "    for city, rain in rainfall.items():\n",
    "        print(f'{city}: {rain}')\n",
    "            \n",
    "get_rainfall()\n",
    "        \n",
    "        \n",
    "        "
   ]
  },
  {
   "cell_type": "markdown",
   "id": "fc4fc464",
   "metadata": {},
   "source": [
    "# EXERCISE 16: Dictdiff"
   ]
  },
  {
   "cell_type": "code",
   "execution_count": 3,
   "id": "97357ec5",
   "metadata": {},
   "outputs": [
    {
     "name": "stdout",
     "output_type": "stream",
     "text": [
      "{'c': [3, 4]}\n"
     ]
    }
   ],
   "source": [
    "def dictdiff(first, second):\n",
    "    output = {}\n",
    "    \n",
    "    all_keys = first.keys() | second.keys()\n",
    "    \n",
    "    for key in all_keys:\n",
    "        \n",
    "        if first.get(key) != second.get(key):\n",
    "            \n",
    "            output[key] = [first.get(key), second.get(key)]\n",
    "            \n",
    "    return output\n",
    "\n",
    "d1 = {'a': 1, 'b': 2, 'c': 3}\n",
    "d2 = {'a' : 1, 'b': 2, 'c': 4}\n",
    "print(dictdiff(d1,d2))\n",
    "    "
   ]
  },
  {
   "cell_type": "markdown",
   "id": "d1e3dc45",
   "metadata": {},
   "source": [
    "# EXERCISE 17: How many different numbers"
   ]
  },
  {
   "cell_type": "code",
   "execution_count": 6,
   "id": "5e116094",
   "metadata": {},
   "outputs": [
    {
     "name": "stdout",
     "output_type": "stream",
     "text": [
      "{1, 2, 3, 4}\n"
     ]
    }
   ],
   "source": [
    "numbers = [1,2,3,1,2,3,4,1]\n",
    "\n",
    "unique_numbers = set()\n",
    "for number in numbers:\n",
    "    unique_numbers.add(number)\n",
    "\n",
    "print(unique_numbers)"
   ]
  },
  {
   "cell_type": "code",
   "execution_count": null,
   "id": "0a25770a",
   "metadata": {},
   "outputs": [],
   "source": []
  }
 ],
 "metadata": {
  "kernelspec": {
   "display_name": "Python 3 (ipykernel)",
   "language": "python",
   "name": "python3"
  },
  "language_info": {
   "codemirror_mode": {
    "name": "ipython",
    "version": 3
   },
   "file_extension": ".py",
   "mimetype": "text/x-python",
   "name": "python",
   "nbconvert_exporter": "python",
   "pygments_lexer": "ipython3",
   "version": "3.9.12"
  }
 },
 "nbformat": 4,
 "nbformat_minor": 5
}
