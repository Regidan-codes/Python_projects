{
 "cells": [
  {
   "cell_type": "code",
   "execution_count": 7,
   "id": "13aaf7c8",
   "metadata": {},
   "outputs": [
    {
     "name": "stdout",
     "output_type": "stream",
     "text": [
      "You have 3 chance(s) left.\n",
      "Guess a whole number between 0 and 100: 80\n",
      "Your guess of 80 is high\n",
      "You have 2 chance(s) left.\n",
      "Guess a whole number between 0 and 100: 79\n",
      "Your guess of 79 is high\n",
      "You have 1 chance(s) left.\n",
      "Guess a whole number between 0 and 100: 77\n",
      "Your guess of 77 is high\n",
      "Sorry you have zero chances left.\n"
     ]
    }
   ],
   "source": [
    "import random\n",
    "\n",
    "def guessing_game():\n",
    "    \n",
    "    answer = random.randint(0,100)\n",
    "    count = 1\n",
    "    \n",
    "    while(count < 4):\n",
    "        \n",
    "        Remaining_chances = 4 - count\n",
    "        print(f\"You have {Remaining_chances} chance(s) left.\")\n",
    "        user_guess = int(input(\"Guess a whole number between 0 and 100: \"))\n",
    "        \n",
    "        if(user_guess == answer):\n",
    "            print(f\"Right! the answer is {answer}\")\n",
    "            break\n",
    "            \n",
    "        elif(user_guess > answer):\n",
    "            print(f\"Your guess of {user_guess} is high\")\n",
    "            \n",
    "        else:\n",
    "            print(f\"Your guess of {user_guess} is low\")\n",
    "        \n",
    "        count += 1\n",
    "        \n",
    "        if(count > 3):\n",
    "            print(\"Sorry you have zero chances left.\")\n",
    "        else:\n",
    "            None\n",
    "        \n",
    "guessing_game()\n",
    "    \n",
    "    "
   ]
  },
  {
   "cell_type": "code",
   "execution_count": null,
   "id": "793987b7",
   "metadata": {},
   "outputs": [],
   "source": []
  }
 ],
 "metadata": {
  "kernelspec": {
   "display_name": "Python 3 (ipykernel)",
   "language": "python",
   "name": "python3"
  },
  "language_info": {
   "codemirror_mode": {
    "name": "ipython",
    "version": 3
   },
   "file_extension": ".py",
   "mimetype": "text/x-python",
   "name": "python",
   "nbconvert_exporter": "python",
   "pygments_lexer": "ipython3",
   "version": "3.9.12"
  }
 },
 "nbformat": 4,
 "nbformat_minor": 5
}
