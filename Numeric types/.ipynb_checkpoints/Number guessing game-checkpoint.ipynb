{
 "cells": [
  {
   "cell_type": "markdown",
   "id": "190b202b",
   "metadata": {},
   "source": [
    "# **EXERCISE 1: Number guessing game. You will have three chances to guess the correct whole number less than 101.**"
   ]
  },
  {
   "cell_type": "code",
   "execution_count": 7,
   "id": "13aaf7c8",
   "metadata": {},
   "outputs": [
    {
     "name": "stdout",
     "output_type": "stream",
     "text": [
      "You have 3 chance(s) left.\n",
      "Guess a whole number between 0 and 100: 80\n",
      "Your guess of 80 is high\n",
      "You have 2 chance(s) left.\n",
      "Guess a whole number between 0 and 100: 79\n",
      "Your guess of 79 is high\n",
      "You have 1 chance(s) left.\n",
      "Guess a whole number between 0 and 100: 77\n",
      "Your guess of 77 is high\n",
      "Sorry you have zero chances left.\n"
     ]
    }
   ],
   "source": [
    "import random\n",
    "\n",
    "def guessing_game():\n",
    "    \n",
    "    answer = random.randint(0,100)\n",
    "    count = 1\n",
    "    \n",
    "    while(count < 4):\n",
    "        \n",
    "        Remaining_chances = 4 - count\n",
    "        print(f\"You have {Remaining_chances} chance(s) left.\")\n",
    "        user_guess = int(input(\"Guess a whole number less than 101: \"))\n",
    "        \n",
    "        if(user_guess == answer):\n",
    "            print(f\"Right! the answer is {answer}\")\n",
    "            break\n",
    "            \n",
    "        elif(user_guess > answer):\n",
    "            print(f\"Your guess of {user_guess} is high\")\n",
    "            \n",
    "        else:\n",
    "            print(f\"Your guess of {user_guess} is low\")\n",
    "        \n",
    "        count += 1\n",
    "        \n",
    "        if(count > 3):\n",
    "            print(\"Sorry you have zero chances left.\")\n",
    "        else:\n",
    "            None\n",
    "        \n",
    "guessing_game()\n",
    "    \n",
    "    "
   ]
  },
  {
   "cell_type": "markdown",
   "id": "1e55d088",
   "metadata": {},
   "source": [
    "# **EXERCISE 2: Return the sum of numbers in the list.**\n"
   ]
  },
  {
   "cell_type": "code",
   "execution_count": 1,
   "id": "1d0d589e",
   "metadata": {},
   "outputs": [
    {
     "name": "stdout",
     "output_type": "stream",
     "text": [
      "25\n"
     ]
    }
   ],
   "source": [
    "def mySum(*numbers):\n",
    "        \n",
    "    total = 0\n",
    "    for number in numbers:\n",
    "        total += number\n",
    "    return total\n",
    "\n",
    "print(mySum(4,6,7,8))"
   ]
  },
  {
   "cell_type": "markdown",
   "id": "3ca61755",
   "metadata": {},
   "source": [
    "# EXERCISE 3: Run Timing. To find average for a set of inputs from user for time taken to run 10kms."
   ]
  },
  {
   "cell_type": "code",
   "execution_count": 5,
   "id": "4621af01",
   "metadata": {},
   "outputs": [
    {
     "name": "stdout",
     "output_type": "stream",
     "text": [
      "Time taken for 10km run in minutes: 80\n",
      "Time taken for 10km run in minutes: 79\n",
      "Time taken for 10km run in minutes: 67\n",
      "Time taken for 10km run in minutes: \n",
      "Average of 75.33 over 3 run(s).\n"
     ]
    }
   ],
   "source": [
    "def run_timing():\n",
    "    #Repeated ask for user input for time taken to run 10 kms.\n",
    "    number_of_runs = 0\n",
    "    total_time = 0\n",
    "    \n",
    "    while True:\n",
    "        \n",
    "        one_run = input(\"Time taken for 10km run in minutes: \")\n",
    "        \n",
    "        if not one_run:\n",
    "            break\n",
    "            \n",
    "        number_of_runs += 1\n",
    "        total_time += float(one_run)\n",
    "    average = total_time/number_of_runs\n",
    "    \n",
    "    print(f\"Average of {average:.2f} over {number_of_runs} run(s).\")\n",
    "    \n",
    "\n",
    "run_timing()\n",
    "        "
   ]
  },
  {
   "cell_type": "code",
   "execution_count": null,
   "id": "2afc667d",
   "metadata": {},
   "outputs": [],
   "source": []
  }
 ],
 "metadata": {
  "kernelspec": {
   "display_name": "Python 3 (ipykernel)",
   "language": "python",
   "name": "python3"
  },
  "language_info": {
   "codemirror_mode": {
    "name": "ipython",
    "version": 3
   },
   "file_extension": ".py",
   "mimetype": "text/x-python",
   "name": "python",
   "nbconvert_exporter": "python",
   "pygments_lexer": "ipython3",
   "version": "3.9.12"
  }
 },
 "nbformat": 4,
 "nbformat_minor": 5
}
