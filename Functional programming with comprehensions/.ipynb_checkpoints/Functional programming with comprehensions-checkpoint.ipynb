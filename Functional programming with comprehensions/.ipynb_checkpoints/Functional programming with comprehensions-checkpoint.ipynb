{
 "cells": [
  {
   "cell_type": "markdown",
   "id": "c5e2aea9",
   "metadata": {},
   "source": [
    "# EXERCISE 28: Join Numbers"
   ]
  },
  {
   "cell_type": "code",
   "execution_count": 1,
   "id": "3d1a168a",
   "metadata": {},
   "outputs": [
    {
     "name": "stdout",
     "output_type": "stream",
     "text": [
      "0,1,2,3,4,5,6,7,8,9,10,11,12,13,14\n"
     ]
    }
   ],
   "source": [
    "def join_numbers(numbers):\n",
    "    \n",
    "    return ','.join(str(number) for number in numbers)\n",
    "\n",
    "print(join_numbers(range(15)))"
   ]
  },
  {
   "cell_type": "markdown",
   "id": "d73e1943",
   "metadata": {},
   "source": [
    "# EXERCISE 29: Add Numbers"
   ]
  },
  {
   "cell_type": "code",
   "execution_count": 2,
   "id": "716252b1",
   "metadata": {},
   "outputs": [
    {
     "name": "stdout",
     "output_type": "stream",
     "text": [
      "10\n"
     ]
    }
   ],
   "source": [
    "def sum_numbers(numbers):\n",
    "    \n",
    "    return sum(int(number) for number in numbers.split() if number.isdigit())\n",
    "\n",
    "print(sum_numbers('1 2 3 a b c 4'))"
   ]
  },
  {
   "cell_type": "markdown",
   "id": "265182e1",
   "metadata": {},
   "source": [
    "# EXERCISE 30: Flatten a List"
   ]
  },
  {
   "cell_type": "code",
   "execution_count": 3,
   "id": "3a57ac70",
   "metadata": {},
   "outputs": [
    {
     "name": "stdout",
     "output_type": "stream",
     "text": [
      "[1, 2, 3, 4]\n"
     ]
    }
   ],
   "source": [
    "def flatten(mylist):\n",
    "    \n",
    "    return [one_element for one_sublist in mylist for one_element in one_sublist]\n",
    "\n",
    "print(flatten([[1,2],[3,4]]))"
   ]
  },
  {
   "cell_type": "markdown",
   "id": "f372443b",
   "metadata": {},
   "source": [
    "# EXERCISE 31: Pig Latin Translation of a File\n"
   ]
  },
  {
   "cell_type": "code",
   "execution_count": 13,
   "id": "2e0d2a21",
   "metadata": {},
   "outputs": [
    {
     "name": "stdout",
     "output_type": "stream",
     "text": [
      "hisTayisayaayesttayile.faytIayontainscay82ayordswayanday02ayifferentdayords.waytIayalsoayontainscay651ayharacters.caytIayalsoayontainscay11ayines.laytIayisayalsoayelf-referential.sayow!Way\n"
     ]
    }
   ],
   "source": [
    "from io import StringIO\n",
    "\n",
    "\n",
    "\n",
    "def plword(word):\n",
    "    \n",
    "    if word[0] in 'aeiou':\n",
    "        \n",
    "        return word + 'ay'\n",
    "    \n",
    "    return word[1:] + word[0] + 'ay'\n",
    "\n",
    "def plfile(filename):\n",
    "    \n",
    "    return ''.join(plword(one_word) for oneline in open(filename) for one_word in oneline.split())\n",
    "\n",
    "\n",
    "print(plfile('wcfile.txt'))"
   ]
  },
  {
   "cell_type": "markdown",
   "id": "01682b70",
   "metadata": {},
   "source": [
    "# EXERCISE 32: Flip a Dict"
   ]
  },
  {
   "cell_type": "code",
   "execution_count": 14,
   "id": "bc9f4df0",
   "metadata": {},
   "outputs": [
    {
     "name": "stdout",
     "output_type": "stream",
     "text": [
      "{1: 'a', 2: 'b', 3: 'c'}\n"
     ]
    }
   ],
   "source": [
    "def flip_dict(a_dict):\n",
    "    \n",
    "    return {value:key for key, value in a_dict.items()}\n",
    "\n",
    "print(flip_dict({'a':1, 'b':2, 'c':3}))"
   ]
  },
  {
   "cell_type": "markdown",
   "id": "adb9649b",
   "metadata": {},
   "source": [
    "# EXERCISE 33: Transform Values"
   ]
  },
  {
   "cell_type": "code",
   "execution_count": 15,
   "id": "05de6ecd",
   "metadata": {},
   "outputs": [
    {
     "name": "stdout",
     "output_type": "stream",
     "text": [
      "{'a': 1, 'b': 4, 'c': 9}\n"
     ]
    }
   ],
   "source": [
    "def transform_values(func, a_dict):\n",
    "    \n",
    "    return {key : func(value) for key, value in a_dict.items()}\n",
    "\n",
    "d = {'a':1, 'b':2, 'c':3}\n",
    "print(transform_values(lambda x : x**2, d))"
   ]
  },
  {
   "cell_type": "markdown",
   "id": "20c34011",
   "metadata": {},
   "source": [
    "# EXERCISE 34: Supervocalic Words"
   ]
  },
  {
   "cell_type": "code",
   "execution_count": 18,
   "id": "483f5497",
   "metadata": {},
   "outputs": [
    {
     "name": "stdout",
     "output_type": "stream",
     "text": [
      "{'autoelectrolytic', 'apiaceous', 'superregeneration'}\n"
     ]
    }
   ],
   "source": [
    "def get_sv(filename):\n",
    "    \n",
    "    vowels = {'a','e','i','o','u'}\n",
    "    \n",
    "    return {word.strip() for oneline in open(filename) for word in oneline.split() if vowels < set(word.lower())}\n",
    "\n",
    "print(get_sv('other.txt'))"
   ]
  },
  {
   "cell_type": "markdown",
   "id": "66c10fb8",
   "metadata": {},
   "source": [
    "# EXERCISE 35A: Gematria, Part1"
   ]
  },
  {
   "cell_type": "code",
   "execution_count": 20,
   "id": "c083670b",
   "metadata": {},
   "outputs": [
    {
     "name": "stdout",
     "output_type": "stream",
     "text": [
      "{'a': 1, 'b': 2, 'c': 3, 'd': 4, 'e': 5, 'f': 6, 'g': 7, 'h': 8, 'i': 9, 'j': 10, 'k': 11, 'l': 12, 'm': 13, 'n': 14, 'o': 15, 'p': 16, 'q': 17, 'r': 18, 's': 19, 't': 20, 'u': 21, 'v': 22, 'w': 23, 'x': 24, 'y': 25, 'z': 26}\n"
     ]
    }
   ],
   "source": [
    "import string\n",
    "\n",
    "def gematria_dict():\n",
    "    \n",
    "    return {char:index for index, char in enumerate(string.ascii_lowercase, 1)}\n",
    "\n",
    "print(gematria_dict())"
   ]
  },
  {
   "cell_type": "markdown",
   "id": "087e839d",
   "metadata": {},
   "source": [
    "# EXERCISE 35B: Gematria, Part2"
   ]
  },
  {
   "cell_type": "code",
   "execution_count": 23,
   "id": "bc5179de",
   "metadata": {},
   "outputs": [
    {
     "name": "stdout",
     "output_type": "stream",
     "text": [
      "['these', 'small', 'put', 'city', 'might', 'while', 'wood', 'appear', 'moon', 'sleep', 'roll', 'least', 'cost', 'human', 'major', 'rose', 'sheet']\n"
     ]
    }
   ],
   "source": [
    "import string\n",
    "\n",
    "def gematria_dict():\n",
    "    \n",
    "    return {char:index for index, char in enumerate(string.ascii_lowercase, 1)}\n",
    "\n",
    "GEMATRIA = gematria_dict()\n",
    "\n",
    "def gematria_for(word):\n",
    "    \n",
    "    return sum(GEMATRIA.get(one_char, 0) for one_char in word)\n",
    "\n",
    "def gematria_equal_words(input_word):\n",
    "    \n",
    "    our_score = gematria_for(input_word)\n",
    "    \n",
    "    return [one_word.strip() for one_word in open('1-1000.txt') if gematria_for(one_word.lower()) == our_score]\n",
    "\n",
    "print(gematria_equal_words('ice cream'))"
   ]
  },
  {
   "cell_type": "code",
   "execution_count": null,
   "id": "f2391a8e",
   "metadata": {},
   "outputs": [],
   "source": []
  }
 ],
 "metadata": {
  "kernelspec": {
   "display_name": "Python 3 (ipykernel)",
   "language": "python",
   "name": "python3"
  },
  "language_info": {
   "codemirror_mode": {
    "name": "ipython",
    "version": 3
   },
   "file_extension": ".py",
   "mimetype": "text/x-python",
   "name": "python",
   "nbconvert_exporter": "python",
   "pygments_lexer": "ipython3",
   "version": "3.9.12"
  }
 },
 "nbformat": 4,
 "nbformat_minor": 5
}
