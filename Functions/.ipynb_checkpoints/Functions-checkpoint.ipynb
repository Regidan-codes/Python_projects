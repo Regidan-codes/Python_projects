{
 "cells": [
  {
   "cell_type": "markdown",
   "id": "3533b48c",
   "metadata": {},
   "source": [
    "# EXERCISE 25: XML Generator"
   ]
  },
  {
   "cell_type": "code",
   "execution_count": 6,
   "id": "74f5af3e",
   "metadata": {},
   "outputs": [
    {
     "name": "stdout",
     "output_type": "stream",
     "text": [
      "<tagname a = \"1\" b = \"2\" c = \"3\">hello</tagname>\n"
     ]
    }
   ],
   "source": [
    "def myxml(tagname, content='',**kwargs):\n",
    "    attrs = ' '.join([f'{key} = \"{value}\"' for key, value in kwargs.items()])\n",
    "    return f'<{tagname} {attrs}>{content}</{tagname}>'\n",
    "\n",
    "print(myxml('tagname', 'hello', a=1, b=2, c=3))"
   ]
  },
  {
   "cell_type": "markdown",
   "id": "b32e8a7a",
   "metadata": {},
   "source": [
    "# EXERCISE 26: Prefix Notation Calculator"
   ]
  },
  {
   "cell_type": "code",
   "execution_count": 11,
   "id": "29207660",
   "metadata": {},
   "outputs": [
    {
     "name": "stdout",
     "output_type": "stream",
     "text": [
      "5\n"
     ]
    }
   ],
   "source": [
    "import operator\n",
    "\n",
    "def calc(to_solve):\n",
    "    \n",
    "    operations = {'+' : operator.add,\n",
    "                  '-':operator.sub,\n",
    "                  '*':operator.mul,\n",
    "                  '/':operator.truediv,\n",
    "                  '**':operator.pow,\n",
    "                  '%':operator.mod}\n",
    "    \n",
    "    op, first_s, second_s = to_solve.split()\n",
    "    first = int(first_s)\n",
    "    second = int(second_s)\n",
    "    \n",
    "    return operations[op](first, second)\n",
    "\n",
    "print(calc('+ 2 3'))\n",
    "    "
   ]
  },
  {
   "cell_type": "markdown",
   "id": "1c99dc62",
   "metadata": {},
   "source": [
    "# EXERCISE 27: Password Generator"
   ]
  },
  {
   "cell_type": "code",
   "execution_count": 12,
   "id": "1993815c",
   "metadata": {},
   "outputs": [
    {
     "name": "stdout",
     "output_type": "stream",
     "text": [
      "bbecb\n"
     ]
    }
   ],
   "source": [
    "import random \n",
    "\n",
    "def create_password_generator(characters):\n",
    "    \n",
    "    def create_password(length):\n",
    "        \n",
    "        output = []\n",
    "        \n",
    "        for i in range(length):\n",
    "            output.append(random.choice(characters))\n",
    "        \n",
    "        return ''.join(output)\n",
    "    \n",
    "    return create_password\n",
    "\n",
    "\n",
    "alpha_password = create_password_generator('abcdef')\n",
    "\n",
    "print(alpha_password(5))"
   ]
  },
  {
   "cell_type": "code",
   "execution_count": null,
   "id": "90a353ab",
   "metadata": {},
   "outputs": [],
   "source": []
  }
 ],
 "metadata": {
  "kernelspec": {
   "display_name": "Python 3 (ipykernel)",
   "language": "python",
   "name": "python3"
  },
  "language_info": {
   "codemirror_mode": {
    "name": "ipython",
    "version": 3
   },
   "file_extension": ".py",
   "mimetype": "text/x-python",
   "name": "python",
   "nbconvert_exporter": "python",
   "pygments_lexer": "ipython3",
   "version": "3.9.12"
  }
 },
 "nbformat": 4,
 "nbformat_minor": 5
}
