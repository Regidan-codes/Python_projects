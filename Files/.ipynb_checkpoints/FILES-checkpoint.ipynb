{
 "cells": [
  {
   "cell_type": "markdown",
   "id": "311793c8",
   "metadata": {},
   "source": [
    "# EXERCISE 18: Final Line"
   ]
  },
  {
   "cell_type": "code",
   "execution_count": 1,
   "id": "da154f28",
   "metadata": {},
   "outputs": [
    {
     "name": "stdout",
     "output_type": "stream",
     "text": [
      "_launchservicesd:*:239:239::0:0:_launchservicesd:/var/empty:/usr/bin/false\n",
      "\n"
     ]
    }
   ],
   "source": [
    "def get_final_line(filename):\n",
    "    \n",
    "    final_line = \"\"\n",
    "    \n",
    "    for current_line in open(filename):\n",
    "        \n",
    "        final_line = current_line\n",
    "        \n",
    "    return final_line\n",
    "\n",
    "print(get_final_line('passwd.txt'))"
   ]
  },
  {
   "cell_type": "markdown",
   "id": "6570fa6a",
   "metadata": {},
   "source": [
    "# EXERCISE 19: /ETC/PASSWD to dict"
   ]
  },
  {
   "cell_type": "code",
   "execution_count": 3,
   "id": "e7de1d73",
   "metadata": {},
   "outputs": [
    {
     "name": "stdout",
     "output_type": "stream",
     "text": [
      "{'nobody': -2, 'root': 0, 'daemon': 1, '_uucp': 4, '_taskgated': 13, '_networkd': 24, '_installassistant': 25, '_lp': 26, '_postfix': 27, '_scsd': 31, '_ces': 32, '_mcxalr': 54, '_appleevents': 55, '_geod': 56, '_serialnumberd': 58, '_devdocs': 59, '_sandbox': 60, '_mdnsresponder': 65, '_ard': 67, '_www': 70, '_eppc': 71, '_cvs': 72, '_svn': 73, '_mysql': 74, '_sshd': 75, '_qtss': 76, '_cyrus': 77, '_mailman': 78, '_appserver': 79, '_clamav': 82, '_amavisd': 83, '_jabber': 84, '_appowner': 87, '_windowserver': 88, '_spotlight': 89, '_tokend': 91, '_securityagent': 92, '_calendar': 93, '_teamsserver': 94, '_update_sharing': 95, '_installer': 96, '_atsserver': 97, '_ftp': 98, '_unknown': 99, '_softwareupdate': 200, '_coreaudiod': 202, '_screensaver': 203, '_locationd': 205, '_trustevaluationagent': 208, '_timezone': 210, '_lda': 211, '_cvmsroot': 212, '_usbmuxd': 213, '_dovecot': 214, '_dpaudio': 215, '_postgres': 216, '_krbtgt': 217, '_kadmin_admin': 218, '_kadmin_changepw': 219, '_devicemgr': 220, '_webauthserver': 221, '_netbios': 222, '_warmd': 224, '_dovenull': 227, '_netstatistics': 228, '_avbdeviced': 229, '_krb_krbtgt': 230, '_krb_kadmin': 231, '_krb_changepw': 232, '_krb_kerberos': 233, '_krb_anonymous': 234, '_assetcache': 235, '_coremediaiod': 236, '_xcsbuildagent': 237, '_xcscredserver': 238, '_launchservicesd': 239}\n"
     ]
    }
   ],
   "source": [
    "def passwd_to_dict(filename):\n",
    "    \n",
    "    users = {}\n",
    "    \n",
    "    with open(filename) as passwd:\n",
    "        for line in passwd:\n",
    "            if not line.startswith(('#', '\\n')):\n",
    "                user_info = line.split(\":\")\n",
    "                users[user_info[0]] = int(user_info[2])\n",
    "    return users\n",
    "\n",
    "print(passwd_to_dict('passwd.txt'))\n",
    "    "
   ]
  },
  {
   "cell_type": "markdown",
   "id": "db67b06b",
   "metadata": {},
   "source": [
    "# EXERCISE 20: WORD COUNT"
   ]
  },
  {
   "cell_type": "code",
   "execution_count": 4,
   "id": "94765ea8",
   "metadata": {},
   "outputs": [
    {
     "name": "stdout",
     "output_type": "stream",
     "text": [
      "characters : 165\n",
      "lines : 11\n",
      "words : 28\n",
      "unique_words : 20\n"
     ]
    }
   ],
   "source": [
    "def wordcount(filename):\n",
    "    \n",
    "    counts = {\"characters\" : 0, \"lines\" : 0, \"words\": 0}\n",
    "    unique_words = set()\n",
    "    \n",
    "    for one_line in open(filename):\n",
    "        \n",
    "        counts['lines'] += 1\n",
    "        counts['characters'] += len(one_line)\n",
    "        counts['words'] += len(one_line.split())\n",
    "        \n",
    "        unique_words.update(one_line.split())\n",
    "        \n",
    "    counts['unique_words'] = len(unique_words)\n",
    "    \n",
    "    for key, value in counts.items():\n",
    "        print(f'{key} : {value}')\n",
    "        \n",
    "wordcount(\"wcfile.txt\")"
   ]
  },
  {
   "cell_type": "markdown",
   "id": "49ecfa59",
   "metadata": {},
   "source": [
    "# EXERCISE 21: FIND THE LONGEST WORD"
   ]
  },
  {
   "cell_type": "code",
   "execution_count": 43,
   "id": "3de3dc7e",
   "metadata": {},
   "outputs": [
    {
     "name": "stdout",
     "output_type": "stream",
     "text": [
      "{'4300-0.txt': 'vulputate.', 'pg68457.txt': '☞', 'pg68458.txt': 'zenith', 'pg68459.txt': '“’Tain’t', 'pg68463.txt': '“yield'}\n"
     ]
    }
   ],
   "source": [
    "import os\n",
    "\n",
    "def find_longest_word(filename):\n",
    "    \n",
    "    try:\n",
    "    \n",
    "        longest_word = \"\"\n",
    "        for one_line in open(filename, \"r\", encoding=\"utf-8-sig\"):\n",
    "            for one_word in one_line.split():\n",
    "                if one_word > longest_word:\n",
    "                    longest_word = one_word\n",
    "    except (OSError,UnicodeDecodeError) as e:\n",
    "        print(f'{filename} : {e}')\n",
    "        \n",
    "                \n",
    "    return longest_word\n",
    "\n",
    "def find_all_longest_words(dirname):\n",
    "    \n",
    "    return {filename : find_longest_word(os.path.join(dirname, filename)) \n",
    "            for filename in os.listdir(dirname) \n",
    "            if os.path.isfile(os.path.join(dirname, filename)) \n",
    "           }\n",
    "\n",
    "print(find_all_longest_words(\"piles\"))\n",
    "    \n",
    "    \n",
    "    "
   ]
  },
  {
   "cell_type": "markdown",
   "id": "a17a8da8",
   "metadata": {},
   "source": [
    "# EXERCISE 22: Reading and writing CSV"
   ]
  },
  {
   "cell_type": "code",
   "execution_count": 2,
   "id": "a54dac42",
   "metadata": {},
   "outputs": [],
   "source": [
    "import csv\n",
    "\n",
    "def passwd_to_csv(passwd_filename, csv_filename):\n",
    "    \n",
    "    with open(passwd_filename) as passwd, open(csv_filename, 'w') as output:\n",
    "        \n",
    "        infile = csv.reader(passwd, delimiter=\":\")\n",
    "        \n",
    "        outfile = csv.writer(output, delimiter=\"\\t\")\n",
    "        \n",
    "        for record in infile:\n",
    "            if len(record) > 1:\n",
    "                outfile.writerow((record[0], record[2]))\n",
    "                \n",
    "passwd_to_csv(\"linux-passwd.txt\", 'passwd.csv')"
   ]
  },
  {
   "cell_type": "markdown",
   "id": "82d8fc8f",
   "metadata": {},
   "source": [
    "# EXERCISE 23: JSON "
   ]
  },
  {
   "cell_type": "code",
   "execution_count": 3,
   "id": "c7484166",
   "metadata": {},
   "outputs": [
    {
     "name": "stdout",
     "output_type": "stream",
     "text": [
      "scores\\9a.json\n",
      "math\n",
      "\tmin 65\n",
      "\tmax 100\n",
      "\taverage 85.0\n",
      "literature\n",
      "\tmin 78\n",
      "\tmax 98\n",
      "\taverage 83.6\n",
      "science\n",
      "\tmin 75\n",
      "\tmax 97\n",
      "\taverage 86.4\n",
      "scores\\9b.json\n",
      "math\n",
      "\tmin 38\n",
      "\tmax 100\n",
      "\taverage 77.0\n",
      "literature\n",
      "\tmin 38\n",
      "\tmax 98\n",
      "\taverage 77.2\n",
      "science\n",
      "\tmin 35\n",
      "\tmax 99\n",
      "\taverage 75.8\n"
     ]
    }
   ],
   "source": [
    "import json\n",
    "import glob\n",
    "\n",
    "def print_scores(dirname):\n",
    "    scores = {}\n",
    "    \n",
    "    for filename in glob.glob(f'{dirname}/*.json'):\n",
    "        \n",
    "        scores[filename] = {}\n",
    "        \n",
    "        with open(filename) as infile:\n",
    "            \n",
    "            for result in json.load(infile): \n",
    "                \n",
    "                for subject, score in result.items():\n",
    "                    scores[filename].setdefault(subject,[]) \n",
    "                    scores[filename][subject].append(score)\n",
    "\n",
    "    for one_class in scores:\n",
    "        \n",
    "        print(one_class)\n",
    "        \n",
    "        for subject, subject_scores in scores[one_class].items():\n",
    "            \n",
    "            min_score = min(subject_scores)\n",
    "            max_score = max(subject_scores)\n",
    "            average = (sum(subject_scores)/len(subject_scores))\n",
    "            \n",
    "            print(subject)\n",
    "            print(f'\\tmin {min_score}')\n",
    "            print(f'\\tmax {max_score}')\n",
    "            print(f'\\taverage {average}')\n",
    "            \n",
    "\n",
    "print_scores('scores')\n",
    "    "
   ]
  },
  {
   "cell_type": "markdown",
   "id": "9036aece",
   "metadata": {},
   "source": [
    "# EXERCISE 24: REVERSE LINES "
   ]
  },
  {
   "cell_type": "code",
   "execution_count": 2,
   "id": "46458adb",
   "metadata": {},
   "outputs": [],
   "source": [
    "def reverse_lines(infilename, outfilename):\n",
    "    with open(infilename) as infile, open(outfilename, 'w') as outfile:\n",
    "        for oneline in infile:\n",
    "            outfile.write(f'{oneline.rstrip()[::-1]}\\n')\n",
    "            \n",
    "reverse_lines('inputfile.txt', 'outputfile.txt')"
   ]
  },
  {
   "cell_type": "code",
   "execution_count": 3,
   "id": "f39f3a6a",
   "metadata": {},
   "outputs": [
    {
     "name": "stdout",
     "output_type": "stream",
     "text": [
      "fed cba\n",
      "\n",
      "nml hkj\n",
      "\n"
     ]
    }
   ],
   "source": [
    "with open('outputfile.txt') as f:\n",
    "    for one_line in f:\n",
    "        print(one_line)"
   ]
  },
  {
   "cell_type": "code",
   "execution_count": null,
   "id": "e3a79771",
   "metadata": {},
   "outputs": [],
   "source": []
  }
 ],
 "metadata": {
  "kernelspec": {
   "display_name": "Python 3 (ipykernel)",
   "language": "python",
   "name": "python3"
  },
  "language_info": {
   "codemirror_mode": {
    "name": "ipython",
    "version": 3
   },
   "file_extension": ".py",
   "mimetype": "text/x-python",
   "name": "python",
   "nbconvert_exporter": "python",
   "pygments_lexer": "ipython3",
   "version": "3.9.12"
  }
 },
 "nbformat": 4,
 "nbformat_minor": 5
}
